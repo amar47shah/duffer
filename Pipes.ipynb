{
 "cells": [
  {
   "cell_type": "code",
   "execution_count": 15,
   "metadata": {
    "collapsed": false
   },
   "outputs": [],
   "source": [
    ":set -XOverloadedStrings\n",
    "\n",
    "import Control.Monad (unless)\n",
    "import Control.Monad.Trans.State.Strict as SS\n",
    "import Data.Attoparsec.ByteString\n",
    "import Data.Byteable\n",
    "import qualified Data.ByteString.Lazy   as L\n",
    "import qualified Data.ByteString        as B\n",
    "import qualified Codec.Compression.Zlib as Z\n",
    "import Pipes\n",
    "import Prelude hiding (take)\n",
    "import qualified Pipes.ByteString as PB\n",
    "import qualified Pipes.Prelude as PP\n",
    "import qualified Pipes.Zlib as PZ\n",
    "import qualified Pipes.Attoparsec as PA\n",
    "import qualified System.IO as SI\n",
    "\n",
    "import Duffer.Pack.Parser\n",
    "import Duffer.Pack.Entries\n",
    "import Duffer.Loose.Parser"
   ]
  },
  {
   "cell_type": "code",
   "execution_count": 2,
   "metadata": {
    "collapsed": false
   },
   "outputs": [
    {
     "data": {
      "text/plain": [
       "\"compressed content\""
      ]
     },
     "metadata": {},
     "output_type": "display_data"
    },
    {
     "data": {
      "text/plain": [
       "\"uncompressed content\""
      ]
     },
     "metadata": {},
     "output_type": "display_data"
    }
   ],
   "source": [
    "compressedContent = L.toStrict $ Z.compress \"compressed content\"\n",
    "uncompressedContent = L.toStrict $ \"uncompressed content\"\n",
    "mingled = B.append compressedContent uncompressedContent\n",
    "mingledProducer = yield mingled\n",
    "decompressed = PZ.decompress' PZ.defaultWindowBits mingledProducer\n",
    "(Right (value, restProducer)) <- next decompressed\n",
    "value\n",
    "(Left (Left finalProducer)) <- next restProducer\n",
    "(Right (final, _)) <- next finalProducer\n",
    "final"
   ]
  },
  {
   "cell_type": "code",
   "execution_count": null,
   "metadata": {
    "collapsed": false
   },
   "outputs": [],
   "source": [
    " "
   ]
  },
  {
   "cell_type": "code",
   "execution_count": 5,
   "metadata": {
    "collapsed": false
   },
   "outputs": [
    {
     "data": {
      "text/plain": [
       "1735"
      ]
     },
     "metadata": {},
     "output_type": "display_data"
    }
   ],
   "source": [
    "parsePackfileHeader = (word8s $ B.unpack \"PACK\") *> (take 4) *> (fromBytes <$> take 4)\n",
    "\n",
    "parsePackFile path = do\n",
    "    stream <- PB.fromHandle <$> SI.openFile path SI.ReadMode\n",
    "    return (yield stream)\n",
    "\n",
    "packfileContent <- B.readFile \".git/objects/pack/pack-018ead6d1f7cc653f4fa50651e92995203187170.pack\"\n",
    "either error id $ parseOnly parsePackfileHeader packfileContent"
   ]
  },
  {
   "cell_type": "code",
   "execution_count": 22,
   "metadata": {
    "collapsed": false
   },
   "outputs": [
    {
     "data": {
      "text/plain": [
       "\"tree c6d1e6926b38d24a7d96500cf768d99db3463b85\\nparent 16f306775ca4f748ded5ecdb8cf2c51ffbd95af6\\nauthor Vaibhav Sagar <vaibhavsagar@gmail.com> 1473110396 -0400\\ncommitter Vaibhav Sagar <vaibhavsagar@gmail.com> 1473110396 -0400\\n\\nRename single packed object resolution function.\\n\""
      ]
     },
     "metadata": {},
     "output_type": "display_data"
    },
    {
     "data": {
      "text/plain": [
       "DefaultCompression"
      ]
     },
     "metadata": {},
     "output_type": "display_data"
    },
    {
     "data": {
      "text/plain": [
       "(CommitObject,273)"
      ]
     },
     "metadata": {},
     "output_type": "display_data"
    }
   ],
   "source": [
    "unpackNextEntry = do\n",
    "    Just (Right typeLen) <- PA.parse parseTypeLen\n",
    "    remainder <- get\n",
    "    PB.drawByte\n",
    "    Just levelByte <- PB.peekByte\n",
    "    let level = getCompressionLevel levelByte\n",
    "    let decompressed = PZ.decompress' PZ.defaultWindowBits remainder\n",
    "    return (decompressed, uncurry encodeTypeLen typeLen, level)\n",
    "\n",
    "handle <- SI.openFile \".git/objects/pack/pack-018ead6d1f7cc653f4fa50651e92995203187170.pack\" SI.ReadMode\n",
    "parsePackfile = do\n",
    "    Just (Right (lenHeader, noOfObjects)) <- PA.parseL parsePackfileHeader\n",
    "    unpackNextEntry\n",
    "    \n",
    "result <- runStateT parsePackfile (PB.fromHandle handle)\n",
    "(dec, header, level) = fst result\n",
    "(Right (value, restProducer)) <- next dec\n",
    "value\n",
    "level\n",
    "either error id $ parseOnly parseTypeLen header"
   ]
  }
 ],
 "metadata": {
  "kernelspec": {
   "display_name": "Haskell",
   "language": "haskell",
   "name": "haskell"
  },
  "language_info": {
   "codemirror_mode": "ihaskell",
   "file_extension": ".hs",
   "name": "haskell",
   "version": "7.10.3"
  }
 },
 "nbformat": 4,
 "nbformat_minor": 0
}
