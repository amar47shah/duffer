{
 "cells": [
  {
   "cell_type": "code",
   "execution_count": 1,
   "metadata": {
    "collapsed": false
   },
   "outputs": [],
   "source": [
    ":set -XOverloadedStrings\n",
    ":load src/Duffer.hs\n",
    "import Control.Monad.Trans.Reader (runReaderT)\n",
    "import Control.Monad.IO.Class (liftIO)\n",
    "import qualified Data.Set as S\n",
    "\n",
    "runWith = flip runReaderT"
   ]
  },
  {
   "cell_type": "code",
   "execution_count": 2,
   "metadata": {
    "collapsed": false
   },
   "outputs": [
    {
     "data": {
      "text/plain": [
       "tree 577d7e91e3dba5a6fe50f99ab01d5cd154d9cbe3\n",
       "parent 66c59710b4f770eae78bf534d3eaee39904d9cf2\n",
       "author Vaibhav Sagar <vaibhavsagar@gmail.com> 1466132146 +0700\n",
       "committer Vaibhav Sagar <vaibhavsagar@gmail.com> 1466132390 +0700\n",
       "\n",
       "Use a Set to store tree entries."
      ]
     },
     "metadata": {},
     "output_type": "display_data"
    }
   ],
   "source": [
    "runWith \".git\" (resolveRef \"refs/heads/master\")"
   ]
  },
  {
   "cell_type": "code",
   "execution_count": 3,
   "metadata": {
    "collapsed": false
   },
   "outputs": [
    {
     "data": {
      "text/plain": [
       "040000\ttree\te16153832e7dd2d1a970631383a659f2de5889a1\t.ci\n",
       "100644\tblob\tf852d338e44a811b19727e35fcd26320a260320d\t.gitignore\n",
       "100644\tblob\t046aa747c15c814559c64a4e383b30cd7205a6a0\t.travis.yml\n",
       "100644\tblob\tb75f4c9dbe3b61cacba052f23461834468832e41\tLICENSE\n",
       "100644\tblob\t9a994af677b0dfd41b4e3b76b3e7e604003d64e1\tSetup.hs\n",
       "100644\tblob\t80c691a60ab290d6f13ac1bee0787b56959178c8\tdemo.ipynb\n",
       "100644\tblob\t16f0fe69b7588839d580c34698b3124e2cde46df\tduffer.cabal\n",
       "040000\ttree\te44cde0aee1253fab7ca2f7285e6927f4fa83b03\tpresentation\n",
       "040000\ttree\t3efe9f9bad0ff66c3ad717400f2f6f0ba2ff7f07\tsrc\n",
       "100644\tblob\t53afd5bce85a9ea426cd86242a61adfc84e8b47c\tstack.yaml\n",
       "040000\ttree\tbec0c2b91836b257d72b2c4e5882f977795de0c7\ttest"
      ]
     },
     "metadata": {},
     "output_type": "display_data"
    }
   ],
   "source": [
    "runWith \".git\" $ do\n",
    "    master <- resolveRef \"refs/heads/master\"\n",
    "    let tree = treeRef master\n",
    "    readObject tree"
   ]
  },
  {
   "cell_type": "code",
   "execution_count": 4,
   "metadata": {
    "collapsed": false
   },
   "outputs": [
    {
     "data": {
      "text/plain": [
       "  gh-pages\n",
       "* master\n",
       "  new-branch"
      ]
     },
     "metadata": {},
     "output_type": "display_data"
    }
   ],
   "source": [
    ":!git branch"
   ]
  },
  {
   "cell_type": "code",
   "execution_count": 5,
   "metadata": {
    "collapsed": false
   },
   "outputs": [
    {
     "data": {
      "text/plain": [
       "0ab8e1f46e3b9006a56ac4c242ad0fbc83e512bd"
      ]
     },
     "metadata": {},
     "output_type": "display_data"
    }
   ],
   "source": [
    ":!cat .git/refs/heads/master"
   ]
  },
  {
   "cell_type": "code",
   "execution_count": 6,
   "metadata": {
    "collapsed": false
   },
   "outputs": [
    {
     "data": {
      "text/plain": [
       "1559094846135448f2f4e28278dfcff678c7b64b"
      ]
     },
     "metadata": {},
     "output_type": "display_data"
    }
   ],
   "source": [
    ":!cat .git/refs/heads/gh-pages"
   ]
  },
  {
   "cell_type": "code",
   "execution_count": 7,
   "metadata": {
    "collapsed": false
   },
   "outputs": [],
   "source": [
    " {- runWith \".git\" $ do\n",
    "    master <- resolveRef \"refs/heads/master\"\n",
    "    merge <- master ~~ 29\n",
    "    liftIO $ print merge\n",
    "    merge Duffer.^^ 2 -}"
   ]
  },
  {
   "cell_type": "code",
   "execution_count": 8,
   "metadata": {
    "collapsed": false
   },
   "outputs": [
    {
     "data": {
      "text/plain": [
       "tree 4b825dc642cb6eb9a060e54bf8d69288fbee4904\n",
       "author Vaibhav Sagar <vaibhavsagar@gmail.com> 1460682233 +1000\n",
       "committer Vaibhav Sagar <vaibhavsagar@gmail.com> 1460682233 +1000\n",
       "\n",
       "Initial gh-pages commit."
      ]
     },
     "metadata": {},
     "output_type": "display_data"
    }
   ],
   "source": [
    "runWith \".git\" $ do\n",
    "    ghPages <- resolveRef \"refs/heads/gh-pages\"\n",
    "    parent <- ghPages Duffer.^^ 1\n",
    "    parent ~~ 1"
   ]
  },
  {
   "cell_type": "code",
   "execution_count": 9,
   "metadata": {
    "collapsed": false
   },
   "outputs": [
    {
     "data": {
      "text/plain": [
       "\"a28aded05daa52ff5d0c77cd6186b1ce0faf7c8c\""
      ]
     },
     "metadata": {},
     "output_type": "display_data"
    }
   ],
   "source": [
    "tree = runWith \".git\" $ readObject \"a28aded05daa52ff5d0c77cd6186b1ce0faf7c8c\"\n",
    "hash <$> tree"
   ]
  },
  {
   "cell_type": "code",
   "execution_count": 10,
   "metadata": {
    "collapsed": false
   },
   "outputs": [
    {
     "data": {
      "text/plain": [
       "040000\ttree\t2404ef1ea70e2d72408ec73143c6ceffba3b6788\thighlight\n",
       "040000\ttree\tbae066b07bc25cf36b316b8ad151ba80c2a60086\tmarkdown\n",
       "040000\ttree\t4ff04f4c72707690b23e77e8a4a880f3f76ecf5e\tmath\n",
       "040000\ttree\tde5fef730165566b3cd78273e96a57d1449a4105\tmultiplex\n",
       "040000\ttree\td3681931d6b8765e38e878ee8a49044e519b46df\tnotes-server\n",
       "040000\ttree\t7b5bc0823020949238c670b6fff876787586a590\tnotes\n",
       "040000\ttree\t61774e24d60863522b3d96dd77629602a22480b4\tprint-pdf\n",
       "040000\ttree\t36c491c9fafd21a40d50b8ae3a5e86593082bfc2\tsearch\n",
       "040000\ttree\tbca0cd38fe38c45a4933c3406ffc070b4c35565b\tzoom-js"
      ]
     },
     "metadata": {},
     "output_type": "display_data"
    }
   ],
   "source": [
    "tree"
   ]
  },
  {
   "cell_type": "code",
   "execution_count": 11,
   "metadata": {
    "collapsed": false,
    "scrolled": true
   },
   "outputs": [
    {
     "data": {
      "text/plain": [
       "\"Copyright Vaibhav Sagar (c) 2015\\n\\nAll rights reserved.\\n\\nRedistribution and use in source and binary forms, with or without\\nmodification, are permitted provided that the following conditions are met:\\n\\n    * Redistributions of source code must retain the above copyright\\n      notice, this list of conditions and the following disclaimer.\\n\\n    * Redistributions in binary form must reproduce the above\\n      copyright notice, this list of conditions and the following\\n      disclaimer in the documentation and/or other materials provided\\n      with the distribution.\\n\\n    * Neither the name of Vaibhav Sagar nor the names of other\\n      contributors may be used to endorse or promote products derived\\n      from this software without specific prior written permission.\\n\\nTHIS SOFTWARE IS PROVIDED BY THE COPYRIGHT HOLDERS AND CONTRIBUTORS\\n\\\"AS IS\\\" AND ANY EXPRESS OR IMPLIED WARRANTIES, INCLUDING, BUT NOT\\nLIMITED TO, THE IMPLIED WARRANTIES OF MERCHANTABILITY AND FITNESS FOR\\nA PARTICULAR PURPOSE ARE DISCLAIMED. IN NO EVENT SHALL THE COPYRIGHT\\nOWNER OR CONTRIBUTORS BE LIABLE FOR ANY DIRECT, INDIRECT, INCIDENTAL,\\nSPECIAL, EXEMPLARY, OR CONSEQUENTIAL DAMAGES (INCLUDING, BUT NOT\\nLIMITED TO, PROCUREMENT OF SUBSTITUTE GOODS OR SERVICES; LOSS OF USE,\\nDATA, OR PROFITS; OR BUSINESS INTERRUPTION) HOWEVER CAUSED AND ON ANY\\nTHEORY OF LIABILITY, WHETHER IN CONTRACT, STRICT LIABILITY, OR TORT\\n(INCLUDING NEGLIGENCE OR OTHERWISE) ARISING IN ANY WAY OUT OF THE USE\\nOF THIS SOFTWARE, EVEN IF ADVISED OF THE POSSIBILITY OF SUCH DAMAGE.\""
      ]
     },
     "metadata": {},
     "output_type": "display_data"
    }
   ],
   "source": [
    "runWith \".git\" $ readObject \"b75f4c9dbe3b61cacba052f23461834468832e41\""
   ]
  },
  {
   "cell_type": "code",
   "execution_count": 12,
   "metadata": {
    "collapsed": false
   },
   "outputs": [
    {
     "data": {
      "text/plain": [
       "object 25354a5cfebca0261cdaa87ebef3a6b9dcb9c13a\n",
       "type commit\n",
       "tag test\n",
       "tagger Vaibhav Sagar <vaibhavsagar@gmail.com> 1459935215 +1000\n",
       "\n",
       "Test tag."
      ]
     },
     "metadata": {},
     "output_type": "display_data"
    }
   ],
   "source": [
    "runWith \".git\" $ readObject \"d4b1e0343313ab60688cf0ddfa8ae5d8fe60ec23\""
   ]
  },
  {
   "cell_type": "code",
   "execution_count": 13,
   "metadata": {
    "collapsed": false
   },
   "outputs": [
    {
     "data": {
      "text/plain": [
       "\"95d09f2b10159347eece71399a7e2e907ea3df4f\""
      ]
     },
     "metadata": {},
     "output_type": "display_data"
    }
   ],
   "source": [
    "import Data.ByteString.UTF8 (fromString, toString)\n",
    "blob = Blob (fromString \"hello world\")\n",
    "runWith \".git\" $ writeObject blob"
   ]
  },
  {
   "cell_type": "code",
   "execution_count": 14,
   "metadata": {
    "collapsed": false
   },
   "outputs": [
    {
     "data": {
      "text/plain": [
       "\"0ab8e1f46e3b9006a56ac4c242ad0fbc83e512bd\""
      ]
     },
     "metadata": {},
     "output_type": "display_data"
    }
   ],
   "source": [
    "currentCommit = resolveRef \"refs/heads/master\"\n",
    "runWith \".git\" $ currentCommit >>= \\commit -> updateRef \"refs/heads/new-branch\" commit"
   ]
  },
  {
   "cell_type": "code",
   "execution_count": 15,
   "metadata": {
    "collapsed": false
   },
   "outputs": [
    {
     "data": {
      "text/plain": [
       "040000\ttree\te16153832e7dd2d1a970631383a659f2de5889a1\t.ci\n",
       "100644\tblob\tf852d338e44a811b19727e35fcd26320a260320d\t.gitignore\n",
       "100644\tblob\t046aa747c15c814559c64a4e383b30cd7205a6a0\t.travis.yml\n",
       "100644\tblob\tb75f4c9dbe3b61cacba052f23461834468832e41\tLICENSE\n",
       "100644\tblob\t9a994af677b0dfd41b4e3b76b3e7e604003d64e1\tSetup.hs\n",
       "100644\tblob\t80c691a60ab290d6f13ac1bee0787b56959178c8\tdemo.ipynb\n",
       "100644\tblob\t16f0fe69b7588839d580c34698b3124e2cde46df\tduffer.cabal\n",
       "040000\ttree\te44cde0aee1253fab7ca2f7285e6927f4fa83b03\tpresentation\n",
       "040000\ttree\t3efe9f9bad0ff66c3ad717400f2f6f0ba2ff7f07\tsrc\n",
       "100644\tblob\t53afd5bce85a9ea426cd86242a61adfc84e8b47c\tstack.yaml\n",
       "040000\ttree\tbec0c2b91836b257d72b2c4e5882f977795de0c7\ttest"
      ]
     },
     "metadata": {},
     "output_type": "display_data"
    }
   ],
   "source": [
    "rootTree = runWith \".git\" $ do\n",
    "    ref <- treeRef <$> currentCommit\n",
    "    readObject ref\n",
    "rootTree"
   ]
  },
  {
   "cell_type": "code",
   "execution_count": 16,
   "metadata": {
    "collapsed": false
   },
   "outputs": [],
   "source": [
    "import Numeric (readOct)\n",
    "mode = fst $ head $ readOct \"100644\"\n",
    "newFile = TreeEntry mode \"new-file\" \"95d09f2b10159347eece71399a7e2e907ea3df4f\""
   ]
  },
  {
   "cell_type": "code",
   "execution_count": 17,
   "metadata": {
    "collapsed": false
   },
   "outputs": [
    {
     "data": {
      "text/plain": [
       "\"f74f783fe5f87f0c95cf99b7c73ca358fb5b2e17\""
      ]
     },
     "metadata": {},
     "output_type": "display_data"
    }
   ],
   "source": [
    "runWith \".git\" $ do\n",
    "    treeEntries <- liftIO $ entries <$> rootTree\n",
    "    let newEntries = S.insert newFile treeEntries\n",
    "    newTree <- writeObject (Tree newEntries)\n",
    "    let me = PersonTime \"Vaibhav Sagar\" \"vaibhavsagar@gmail.com\" \"1461156164\" \"+1000\" \n",
    "    let newCommit = Commit newTree [\"d76238fed6c656183a4d4dcf287217a061043869\"] me me \"New commit.\"\n",
    "    newHead <- writeObject newCommit\n",
    "    updateRef \"refs/heads/new-branch\" newCommit"
   ]
  },
  {
   "cell_type": "code",
   "execution_count": null,
   "metadata": {
    "collapsed": true
   },
   "outputs": [],
   "source": []
  }
 ],
 "metadata": {
  "kernelspec": {
   "display_name": "Haskell",
   "language": "haskell",
   "name": "haskell"
  },
  "language_info": {
   "codemirror_mode": "ihaskell",
   "file_extension": ".hs",
   "name": "haskell",
   "version": "7.10.3"
  }
 },
 "nbformat": 4,
 "nbformat_minor": 0
}
