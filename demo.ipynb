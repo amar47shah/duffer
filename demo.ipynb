{
 "cells": [
  {
   "cell_type": "code",
   "execution_count": 1,
   "metadata": {
    "collapsed": false
   },
   "outputs": [],
   "source": [
    ":set -XOverloadedStrings\n",
    "\n",
    "import Control.Monad.Trans.Reader (runReaderT)\n",
    "import Control.Monad.IO.Class (liftIO)\n",
    "import Data.Maybe (fromJust)\n",
    "import qualified Data.Set as S\n",
    "\n",
    "import Duffer\n",
    "import Duffer.Loose.Objects\n",
    "\n",
    "duffer = flip runReaderT \".git\""
   ]
  },
  {
   "cell_type": "markdown",
   "metadata": {},
   "source": [
    "Let's start with a raw representation of the most recent commit:"
   ]
  },
  {
   "cell_type": "code",
   "execution_count": 2,
   "metadata": {
    "collapsed": false
   },
   "outputs": [
    {
     "data": {
      "text/plain": [
       "commit e21e9e098c9c70724d9fb9f075723f81e59f178d\n",
       "tree e5eceecb4f78cdd7ddb97de26515ba753f125d5a\n",
       "parent db7d3b03ea73d1f78b8e5b463a69024d48c3bb14\n",
       "author Vaibhav Sagar <vaibhavsagar@gmail.com> 1475072814 -0400\n",
       "committer Vaibhav Sagar <vaibhavsagar@gmail.com> 1475072814 -0400\n",
       "\n",
       "    Add latest demo and presentation."
      ]
     },
     "metadata": {},
     "output_type": "display_data"
    }
   ],
   "source": [
    ":!git show --format=raw -s"
   ]
  },
  {
   "cell_type": "markdown",
   "metadata": {},
   "source": [
    "I'm currently on the `master` branch, so another way to get to this object is as follows:"
   ]
  },
  {
   "cell_type": "code",
   "execution_count": 3,
   "metadata": {
    "collapsed": false
   },
   "outputs": [
    {
     "data": {
      "text/plain": [
       "tree e5eceecb4f78cdd7ddb97de26515ba753f125d5a\n",
       "parent db7d3b03ea73d1f78b8e5b463a69024d48c3bb14\n",
       "author Vaibhav Sagar <vaibhavsagar@gmail.com> 1475072814 -0400\n",
       "committer Vaibhav Sagar <vaibhavsagar@gmail.com> 1475072814 -0400\n",
       "\n",
       "Add latest demo and presentation."
      ]
     },
     "metadata": {},
     "output_type": "display_data"
    }
   ],
   "source": [
    "duffer (resolveRef \"refs/heads/master\")"
   ]
  },
  {
   "cell_type": "markdown",
   "metadata": {},
   "source": [
    "We can view the pretty-printed contents of a `git` object with `cat-file -p`. Each commit has a `tree` associated with it which represents a directory, in this case the root project folder."
   ]
  },
  {
   "cell_type": "code",
   "execution_count": 4,
   "metadata": {
    "collapsed": false
   },
   "outputs": [
    {
     "data": {
      "text/plain": [
       "040000 tree b8c0fd17ebd7bad61687fe06449b0a484b207efb\t.ci\n",
       "100644 blob 024ac699940a0c2da0a20f899b324df16f8fdeca\t.gitignore\n",
       "100644 blob fbc4e9eb55e7511e5dc1dc34a511d03f40c7cbd2\t.travis.yml\n",
       "100644 blob d5c01fc4f0a44b01144a7adb8d7eb9698870dbf3\tIndex.ipynb\n",
       "100644 blob 40047c95db5ba581586d5ced7b041b64a9635512\tLICENSE\n",
       "100644 blob 96d207607fb9cc235de412f21594feb5710665a3\tREADME.md\n",
       "100644 blob 9a994af677b0dfd41b4e3b76b3e7e604003d64e1\tSetup.hs\n",
       "100644 blob 54e5297c419c544fa5003cfbeba70a4707319f52\tdemo.ipynb\n",
       "100644 blob c227ff4dfbff1db536cad6764419cadcb8b16e5d\tduffer.cabal\n",
       "040000 tree 99b7e6ba8585ea0ee612b3bdc48d14d387e2418c\tpresentation\n",
       "040000 tree ba3fbeb785137064219fc944a8a656c9b3b8efcd\tsrc\n",
       "100644 blob f455b1ce34e0111681afd47e50280d8b4841d810\tstack.yaml\n",
       "040000 tree cb611148ac47d79ace84e4604a1aef387bd40514\ttest"
      ]
     },
     "metadata": {},
     "output_type": "display_data"
    }
   ],
   "source": [
    ":!git cat-file -p master^{tree}"
   ]
  },
  {
   "cell_type": "markdown",
   "metadata": {},
   "source": [
    "Again, we can obtain almost identical (modulo formatting) output with `duffer`:"
   ]
  },
  {
   "cell_type": "code",
   "execution_count": 5,
   "metadata": {
    "collapsed": false
   },
   "outputs": [
    {
     "data": {
      "text/plain": [
       "040000\ttree\tb8c0fd17ebd7bad61687fe06449b0a484b207efb\t.ci\n",
       "100644\tblob\t024ac699940a0c2da0a20f899b324df16f8fdeca\t.gitignore\n",
       "100644\tblob\tfbc4e9eb55e7511e5dc1dc34a511d03f40c7cbd2\t.travis.yml\n",
       "100644\tblob\td5c01fc4f0a44b01144a7adb8d7eb9698870dbf3\tIndex.ipynb\n",
       "100644\tblob\t40047c95db5ba581586d5ced7b041b64a9635512\tLICENSE\n",
       "100644\tblob\t96d207607fb9cc235de412f21594feb5710665a3\tREADME.md\n",
       "100644\tblob\t9a994af677b0dfd41b4e3b76b3e7e604003d64e1\tSetup.hs\n",
       "100644\tblob\t54e5297c419c544fa5003cfbeba70a4707319f52\tdemo.ipynb\n",
       "100644\tblob\tc227ff4dfbff1db536cad6764419cadcb8b16e5d\tduffer.cabal\n",
       "040000\ttree\t99b7e6ba8585ea0ee612b3bdc48d14d387e2418c\tpresentation\n",
       "040000\ttree\tba3fbeb785137064219fc944a8a656c9b3b8efcd\tsrc\n",
       "100644\tblob\tf455b1ce34e0111681afd47e50280d8b4841d810\tstack.yaml\n",
       "040000\ttree\tcb611148ac47d79ace84e4604a1aef387bd40514\ttest"
      ]
     },
     "metadata": {},
     "output_type": "display_data"
    }
   ],
   "source": [
    "duffer $ do\n",
    "    master    <- resolveRef \"refs/heads/master\"\n",
    "    let tree  =  treeRef master\n",
    "    fromJust <$> readObject tree"
   ]
  },
  {
   "cell_type": "markdown",
   "metadata": {},
   "source": [
    "`git` implements a giant hashtable on the filesystem using SHA1 as the hashing function. It stores all the past files and directory listings as `zlib`-compressed text files (with a header denoting object type and length) under `.git/objects` as follows:\n",
    "\n",
    "1. Compute a SHA1 hash of the content.\n",
    "2. `zlib`-compress the content.\n",
    "3. Take the first 2 characters of the hash. This is the subdirectory under `.git/objects` where the content will be stored.\n",
    "4. The remaining 38 characters of the hash are the filename.\n",
    "\n",
    "For example, a decompressed commit looks like:"
   ]
  },
  {
   "cell_type": "code",
   "execution_count": 6,
   "metadata": {
    "collapsed": false
   },
   "outputs": [
    {
     "data": {
      "text/plain": [
       "commit 287\u0000tree 0b36647819f93c5523b5967d19cb131d88ab1be4\n",
       "parent 2577894fb379a7cbe2e3bfd3ba325f4e451bbb5f\n",
       "parent d72ae27a9ae58d49235ff9761cfae816b004d9b1\n",
       "author Vaibhav Sagar <vaibhavsagar@gmail.com> 1473766850 -0400\n",
       "committer Vaibhav Sagar <vaibhavsagar@gmail.com> 1473766850 -0400\n",
       "\n",
       "Add porcelain."
      ]
     },
     "metadata": {},
     "output_type": "display_data"
    }
   ],
   "source": [
    ":!cat .git/objects/4b/d9b179bb166b85e3e889f9f263f1b5a26f3e34 | zlib-flate -uncompress"
   ]
  },
  {
   "cell_type": "code",
   "execution_count": 7,
   "metadata": {
    "collapsed": false
   },
   "outputs": [
    {
     "data": {
      "text/plain": [
       "tree 0b36647819f93c5523b5967d19cb131d88ab1be4\n",
       "parent 2577894fb379a7cbe2e3bfd3ba325f4e451bbb5f\n",
       "parent d72ae27a9ae58d49235ff9761cfae816b004d9b1\n",
       "author Vaibhav Sagar <vaibhavsagar@gmail.com> 1473766850 -0400\n",
       "committer Vaibhav Sagar <vaibhavsagar@gmail.com> 1473766850 -0400\n",
       "\n",
       "Add porcelain."
      ]
     },
     "metadata": {},
     "output_type": "display_data"
    }
   ],
   "source": [
    "fmap fromJust $ duffer $ readObject \"4bd9b179bb166b85e3e889f9f263f1b5a26f3e34\""
   ]
  },
  {
   "cell_type": "code",
   "execution_count": 8,
   "metadata": {
    "collapsed": false
   },
   "outputs": [
    {
     "data": {
      "text/plain": [
       "  gh-pages\n",
       "* master"
      ]
     },
     "metadata": {},
     "output_type": "display_data"
    }
   ],
   "source": [
    ":!git branch"
   ]
  },
  {
   "cell_type": "code",
   "execution_count": 9,
   "metadata": {
    "collapsed": false
   },
   "outputs": [
    {
     "data": {
      "text/plain": [
       "tree b6a522a22b9606aa5e63304b8e9bb24d4c2e52d2\n",
       "parent bb6c2f24de25d142a674cb73253cca7233ff4f33\n",
       "author Vaibhav Sagar <vaibhavsagar@gmail.com> 1474940870 -0400\n",
       "committer Vaibhav Sagar <vaibhavsagar@gmail.com> 1474940870 -0400\n",
       "\n",
       "First of many changes to presentation."
      ]
     },
     "metadata": {},
     "output_type": "display_data"
    }
   ],
   "source": [
    "duffer $ do\n",
    "    current       <- resolveRef \"refs/heads/master\"\n",
    "    Just parent   <- current Duffer.^^ 1\n",
    "    Just ancestor <- parent ~~ 1\n",
    "    return ancestor"
   ]
  },
  {
   "cell_type": "markdown",
   "metadata": {},
   "source": [
    "As mentioned previously, the hash of a `git` object uniquely identifies it in the giant hashtable that is `git`"
   ]
  },
  {
   "cell_type": "code",
   "execution_count": 10,
   "metadata": {
    "collapsed": false
   },
   "outputs": [
    {
     "data": {
      "text/plain": [
       "\"a28aded05daa52ff5d0c77cd6186b1ce0faf7c8c\""
      ]
     },
     "metadata": {},
     "output_type": "display_data"
    }
   ],
   "source": [
    "tree <- fmap fromJust $ duffer $ readObject \"a28aded05daa52ff5d0c77cd6186b1ce0faf7c8c\"\n",
    "hash tree"
   ]
  },
  {
   "cell_type": "markdown",
   "metadata": {},
   "source": [
    "`git` refers to files as `blob`s."
   ]
  },
  {
   "cell_type": "code",
   "execution_count": 11,
   "metadata": {
    "collapsed": false,
    "scrolled": true
   },
   "outputs": [
    {
     "data": {
      "text/plain": [
       "Copyright Vaibhav Sagar (c) 2015\n",
       "\n",
       "All rights reserved.\n",
       "\n",
       "Redistribution and use in source and binary forms, with or without\n",
       "modification, are permitted provided that the following conditions are met:\n",
       "\n",
       "    * Redistributions of source code must retain the above copyright\n",
       "      notice, this list of conditions and the following disclaimer.\n",
       "\n",
       "    * Redistributions in binary form must reproduce the above\n",
       "      copyright notice, this list of conditions and the following\n",
       "      disclaimer in the documentation and/or other materials provided\n",
       "      with the distribution.\n",
       "\n",
       "    * Neither the name of Vaibhav Sagar nor the names of other\n",
       "      contributors may be used to endorse or promote products derived\n",
       "      from this software without specific prior written permission.\n",
       "\n",
       "THIS SOFTWARE IS PROVIDED BY THE COPYRIGHT HOLDERS AND CONTRIBUTORS\n",
       "\"AS IS\" AND ANY EXPRESS OR IMPLIED WARRANTIES, INCLUDING, BUT NOT\n",
       "LIMITED TO, THE IMPLIED WARRANTIES OF MERCHANTABILITY AND FITNESS FOR\n",
       "A PARTICULAR PURPOSE ARE DISCLAIMED. IN NO EVENT SHALL THE COPYRIGHT\n",
       "OWNER OR CONTRIBUTORS BE LIABLE FOR ANY DIRECT, INDIRECT, INCIDENTAL,\n",
       "SPECIAL, EXEMPLARY, OR CONSEQUENTIAL DAMAGES (INCLUDING, BUT NOT\n",
       "LIMITED TO, PROCUREMENT OF SUBSTITUTE GOODS OR SERVICES; LOSS OF USE,\n",
       "DATA, OR PROFITS; OR BUSINESS INTERRUPTION) HOWEVER CAUSED AND ON ANY\n",
       "THEORY OF LIABILITY, WHETHER IN CONTRACT, STRICT LIABILITY, OR TORT\n",
       "(INCLUDING NEGLIGENCE OR OTHERWISE) ARISING IN ANY WAY OUT OF THE USE\n",
       "OF THIS SOFTWARE, EVEN IF ADVISED OF THE POSSIBILITY OF SUCH DAMAGE."
      ]
     },
     "metadata": {},
     "output_type": "display_data"
    }
   ],
   "source": [
    "fmap fromJust $ duffer $ readObject \"b75f4c9dbe3b61cacba052f23461834468832e41\""
   ]
  },
  {
   "cell_type": "markdown",
   "metadata": {},
   "source": [
    "The last type of `git` object is a `tag`, which gives a name to another `git` object."
   ]
  },
  {
   "cell_type": "code",
   "execution_count": 12,
   "metadata": {
    "collapsed": false
   },
   "outputs": [
    {
     "data": {
      "text/plain": [
       "object 25354a5cfebca0261cdaa87ebef3a6b9dcb9c13a\n",
       "type commit\n",
       "tag test\n",
       "tagger Vaibhav Sagar <vaibhavsagar@gmail.com> 1459935215 +1000\n",
       "\n",
       "Test tag."
      ]
     },
     "metadata": {},
     "output_type": "display_data"
    }
   ],
   "source": [
    "fmap fromJust $ duffer $ readObject \"d4b1e0343313ab60688cf0ddfa8ae5d8fe60ec23\""
   ]
  },
  {
   "cell_type": "markdown",
   "metadata": {},
   "source": [
    "`duffer` is pretty great at reading `git` repositories, but that's not all you can do with it. You can also add content to a `git` repository with it:"
   ]
  },
  {
   "cell_type": "code",
   "execution_count": 13,
   "metadata": {
    "collapsed": false
   },
   "outputs": [
    {
     "data": {
      "text/plain": [
       "\"95d09f2b10159347eece71399a7e2e907ea3df4f\""
      ]
     },
     "metadata": {},
     "output_type": "display_data"
    }
   ],
   "source": [
    "import Data.ByteString.UTF8 (fromString, toString)\n",
    "blob = Blob (fromString \"hello world\")\n",
    "duffer $ writeObject blob"
   ]
  },
  {
   "cell_type": "code",
   "execution_count": 14,
   "metadata": {
    "collapsed": false
   },
   "outputs": [
    {
     "data": {
      "text/plain": [
       "hello world"
      ]
     },
     "metadata": {},
     "output_type": "display_data"
    }
   ],
   "source": [
    ":!git cat-file -p 95d09f2b10159347eece71399a7e2e907ea3df4f"
   ]
  },
  {
   "cell_type": "code",
   "execution_count": 15,
   "metadata": {
    "collapsed": false
   },
   "outputs": [
    {
     "data": {
      "text/plain": [
       "  gh-pages\n",
       "* master"
      ]
     },
     "metadata": {},
     "output_type": "display_data"
    }
   ],
   "source": [
    ":!git branch"
   ]
  },
  {
   "cell_type": "code",
   "execution_count": 16,
   "metadata": {
    "collapsed": false
   },
   "outputs": [
    {
     "data": {
      "text/plain": [
       "\"e21e9e098c9c70724d9fb9f075723f81e59f178d\""
      ]
     },
     "metadata": {},
     "output_type": "display_data"
    }
   ],
   "source": [
    "currentCommit = resolveRef \"refs/heads/master\"\n",
    "duffer $ currentCommit >>= \\commit -> updateRef \"refs/heads/new-branch\" commit"
   ]
  },
  {
   "cell_type": "code",
   "execution_count": 17,
   "metadata": {
    "collapsed": false
   },
   "outputs": [
    {
     "data": {
      "text/plain": [
       "  gh-pages\n",
       "* master\n",
       "  new-branch"
      ]
     },
     "metadata": {},
     "output_type": "display_data"
    }
   ],
   "source": [
    ":!git branch"
   ]
  },
  {
   "cell_type": "code",
   "execution_count": 18,
   "metadata": {
    "collapsed": false
   },
   "outputs": [
    {
     "data": {
      "text/html": [
       "<style>/* Styles used for the Hoogle display in the pager */\n",
       ".hoogle-doc {\n",
       "display: block;\n",
       "padding-bottom: 1.3em;\n",
       "padding-left: 0.4em;\n",
       "}\n",
       ".hoogle-code {\n",
       "display: block;\n",
       "font-family: monospace;\n",
       "white-space: pre;\n",
       "}\n",
       ".hoogle-text {\n",
       "display: block;\n",
       "}\n",
       ".hoogle-name {\n",
       "color: green;\n",
       "font-weight: bold;\n",
       "}\n",
       ".hoogle-head {\n",
       "font-weight: bold;\n",
       "}\n",
       ".hoogle-sub {\n",
       "display: block;\n",
       "margin-left: 0.4em;\n",
       "}\n",
       ".hoogle-package {\n",
       "font-weight: bold;\n",
       "font-style: italic;\n",
       "}\n",
       ".hoogle-module {\n",
       "font-weight: bold;\n",
       "}\n",
       ".hoogle-class {\n",
       "font-weight: bold;\n",
       "}\n",
       ".get-type {\n",
       "color: green;\n",
       "font-weight: bold;\n",
       "font-family: monospace;\n",
       "display: block;\n",
       "white-space: pre-wrap;\n",
       "}\n",
       ".show-type {\n",
       "color: green;\n",
       "font-weight: bold;\n",
       "font-family: monospace;\n",
       "margin-left: 1em;\n",
       "}\n",
       ".mono {\n",
       "font-family: monospace;\n",
       "display: block;\n",
       "}\n",
       ".err-msg {\n",
       "color: red;\n",
       "font-style: italic;\n",
       "font-family: monospace;\n",
       "white-space: pre;\n",
       "display: block;\n",
       "}\n",
       "#unshowable {\n",
       "color: red;\n",
       "font-weight: bold;\n",
       "}\n",
       ".err-msg.in.collapse {\n",
       "padding-top: 0.7em;\n",
       "}\n",
       ".highlight-code {\n",
       "white-space: pre;\n",
       "font-family: monospace;\n",
       "}\n",
       ".suggestion-warning { \n",
       "font-weight: bold;\n",
       "color: rgb(200, 130, 0);\n",
       "}\n",
       ".suggestion-error { \n",
       "font-weight: bold;\n",
       "color: red;\n",
       "}\n",
       ".suggestion-name {\n",
       "font-weight: bold;\n",
       "}\n",
       "</style><span class='err-msg'>Parse error (line 4, column 57): parse error (possibly incorrect indentation or mismatched brackets)</span>"
      ],
      "text/plain": [
       "Parse error (line 4, column 57): parse error (possibly incorrect indentation or mismatched brackets)"
      ]
     },
     "metadata": {},
     "output_type": "display_data"
    },
    {
     "data": {
      "text/html": [
       "<style>/* Styles used for the Hoogle display in the pager */\n",
       ".hoogle-doc {\n",
       "display: block;\n",
       "padding-bottom: 1.3em;\n",
       "padding-left: 0.4em;\n",
       "}\n",
       ".hoogle-code {\n",
       "display: block;\n",
       "font-family: monospace;\n",
       "white-space: pre;\n",
       "}\n",
       ".hoogle-text {\n",
       "display: block;\n",
       "}\n",
       ".hoogle-name {\n",
       "color: green;\n",
       "font-weight: bold;\n",
       "}\n",
       ".hoogle-head {\n",
       "font-weight: bold;\n",
       "}\n",
       ".hoogle-sub {\n",
       "display: block;\n",
       "margin-left: 0.4em;\n",
       "}\n",
       ".hoogle-package {\n",
       "font-weight: bold;\n",
       "font-style: italic;\n",
       "}\n",
       ".hoogle-module {\n",
       "font-weight: bold;\n",
       "}\n",
       ".hoogle-class {\n",
       "font-weight: bold;\n",
       "}\n",
       ".get-type {\n",
       "color: green;\n",
       "font-weight: bold;\n",
       "font-family: monospace;\n",
       "display: block;\n",
       "white-space: pre-wrap;\n",
       "}\n",
       ".show-type {\n",
       "color: green;\n",
       "font-weight: bold;\n",
       "font-family: monospace;\n",
       "margin-left: 1em;\n",
       "}\n",
       ".mono {\n",
       "font-family: monospace;\n",
       "display: block;\n",
       "}\n",
       ".err-msg {\n",
       "color: red;\n",
       "font-style: italic;\n",
       "font-family: monospace;\n",
       "white-space: pre;\n",
       "display: block;\n",
       "}\n",
       "#unshowable {\n",
       "color: red;\n",
       "font-weight: bold;\n",
       "}\n",
       ".err-msg.in.collapse {\n",
       "padding-top: 0.7em;\n",
       "}\n",
       ".highlight-code {\n",
       "white-space: pre;\n",
       "font-family: monospace;\n",
       "}\n",
       ".suggestion-warning { \n",
       "font-weight: bold;\n",
       "color: rgb(200, 130, 0);\n",
       "}\n",
       ".suggestion-error { \n",
       "font-weight: bold;\n",
       "color: red;\n",
       "}\n",
       ".suggestion-name {\n",
       "font-weight: bold;\n",
       "}\n",
       "</style><span class='err-msg'>Parse error (line 5, column 1): parse error on input ‘in’</span>"
      ],
      "text/plain": [
       "Parse error (line 5, column 1): parse error on input ‘in’"
      ]
     },
     "metadata": {},
     "output_type": "display_data"
    }
   ],
   "source": [
    "setMSBs :: [Int] -> [Int]\n",
    "setMSBs ints = let\n",
    "    ints'  = reverse ints\n",
    "    ints'' = head ints' : map (`setBit` 7) ( tail ints')\n",
    "in reverse ints''rootTree = duffer $ do\n",
    "    ref <- treeRef <$> currentCommit\n",
    "    fromJust <$> readObject ref\n",
    "rootTree"
   ]
  },
  {
   "cell_type": "code",
   "execution_count": 19,
   "metadata": {
    "collapsed": false
   },
   "outputs": [
    {
     "data": {
      "text/html": [
       "<style>/* Styles used for the Hoogle display in the pager */\n",
       ".hoogle-doc {\n",
       "display: block;\n",
       "padding-bottom: 1.3em;\n",
       "padding-left: 0.4em;\n",
       "}\n",
       ".hoogle-code {\n",
       "display: block;\n",
       "font-family: monospace;\n",
       "white-space: pre;\n",
       "}\n",
       ".hoogle-text {\n",
       "display: block;\n",
       "}\n",
       ".hoogle-name {\n",
       "color: green;\n",
       "font-weight: bold;\n",
       "}\n",
       ".hoogle-head {\n",
       "font-weight: bold;\n",
       "}\n",
       ".hoogle-sub {\n",
       "display: block;\n",
       "margin-left: 0.4em;\n",
       "}\n",
       ".hoogle-package {\n",
       "font-weight: bold;\n",
       "font-style: italic;\n",
       "}\n",
       ".hoogle-module {\n",
       "font-weight: bold;\n",
       "}\n",
       ".hoogle-class {\n",
       "font-weight: bold;\n",
       "}\n",
       ".get-type {\n",
       "color: green;\n",
       "font-weight: bold;\n",
       "font-family: monospace;\n",
       "display: block;\n",
       "white-space: pre-wrap;\n",
       "}\n",
       ".show-type {\n",
       "color: green;\n",
       "font-weight: bold;\n",
       "font-family: monospace;\n",
       "margin-left: 1em;\n",
       "}\n",
       ".mono {\n",
       "font-family: monospace;\n",
       "display: block;\n",
       "}\n",
       ".err-msg {\n",
       "color: red;\n",
       "font-style: italic;\n",
       "font-family: monospace;\n",
       "white-space: pre;\n",
       "display: block;\n",
       "}\n",
       "#unshowable {\n",
       "color: red;\n",
       "font-weight: bold;\n",
       "}\n",
       ".err-msg.in.collapse {\n",
       "padding-top: 0.7em;\n",
       "}\n",
       ".highlight-code {\n",
       "white-space: pre;\n",
       "font-family: monospace;\n",
       "}\n",
       ".suggestion-warning { \n",
       "font-weight: bold;\n",
       "color: rgb(200, 130, 0);\n",
       "}\n",
       ".suggestion-error { \n",
       "font-weight: bold;\n",
       "color: red;\n",
       "}\n",
       ".suggestion-name {\n",
       "font-weight: bold;\n",
       "}\n",
       "</style><span class='err-msg'>Not in scope: ‘rootTree’</span>"
      ],
      "text/plain": [
       "Not in scope: ‘rootTree’"
      ]
     },
     "metadata": {},
     "output_type": "display_data"
    }
   ],
   "source": [
    "newFile = TreeEntry 0o100644 \"new-file\" \"95d09f2b10159347eece71399a7e2e907ea3df4f\"\n",
    "duffer $ do\n",
    "    treeEntries <- liftIO $ entries <$> rootTree\n",
    "    let newEntries = S.insert newFile treeEntries\n",
    "    newTree <- writeObject (Tree newEntries)\n",
    "    let me = PersonTime \"Vaibhav Sagar\" \"vaibhavsagar@gmail.com\" \"1461156164\" \"+1000\" \n",
    "    let newCommit = Commit newTree [\"d76238fed6c656183a4d4dcf287217a061043869\"] me me \"New commit.\"\n",
    "    newHead <- writeObject newCommit\n",
    "    updateRef \"refs/heads/new-branch\" newCommit"
   ]
  },
  {
   "cell_type": "code",
   "execution_count": 20,
   "metadata": {
    "collapsed": false
   },
   "outputs": [
    {
     "data": {
      "text/plain": [
       "040000\ttree\tb8c0fd17ebd7bad61687fe06449b0a484b207efb\t.ci\n",
       "100644\tblob\t024ac699940a0c2da0a20f899b324df16f8fdeca\t.gitignore\n",
       "100644\tblob\tfbc4e9eb55e7511e5dc1dc34a511d03f40c7cbd2\t.travis.yml\n",
       "100644\tblob\td5c01fc4f0a44b01144a7adb8d7eb9698870dbf3\tIndex.ipynb\n",
       "100644\tblob\t40047c95db5ba581586d5ced7b041b64a9635512\tLICENSE\n",
       "100644\tblob\t96d207607fb9cc235de412f21594feb5710665a3\tREADME.md\n",
       "100644\tblob\t9a994af677b0dfd41b4e3b76b3e7e604003d64e1\tSetup.hs\n",
       "100644\tblob\t54e5297c419c544fa5003cfbeba70a4707319f52\tdemo.ipynb\n",
       "100644\tblob\tc227ff4dfbff1db536cad6764419cadcb8b16e5d\tduffer.cabal\n",
       "040000\ttree\t99b7e6ba8585ea0ee612b3bdc48d14d387e2418c\tpresentation\n",
       "040000\ttree\tba3fbeb785137064219fc944a8a656c9b3b8efcd\tsrc\n",
       "100644\tblob\tf455b1ce34e0111681afd47e50280d8b4841d810\tstack.yaml\n",
       "040000\ttree\tcb611148ac47d79ace84e4604a1aef387bd40514\ttest"
      ]
     },
     "metadata": {},
     "output_type": "display_data"
    }
   ],
   "source": [
    "newTree = duffer $ do\n",
    "    ref <- treeRef <$> resolveRef \"refs/heads/new-branch\"\n",
    "    fromJust <$> readObject ref\n",
    "newTree"
   ]
  }
 ],
 "metadata": {
  "kernelspec": {
   "display_name": "Haskell",
   "language": "haskell",
   "name": "haskell"
  },
  "language_info": {
   "codemirror_mode": "ihaskell",
   "file_extension": ".hs",
   "name": "haskell",
   "version": "7.10.3"
  }
 },
 "nbformat": 4,
 "nbformat_minor": 0
}
