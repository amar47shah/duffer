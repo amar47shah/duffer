{
 "cells": [
  {
   "cell_type": "code",
   "execution_count": 1,
   "metadata": {
    "collapsed": true
   },
   "outputs": [],
   "source": [
    "import Duffer"
   ]
  },
  {
   "cell_type": "code",
   "execution_count": 2,
   "metadata": {
    "collapsed": false
   },
   "outputs": [
    {
     "data": {
      "text/plain": [
       "tree f6183585b23e0e5e7c1453efa01e2f5ceb712996\n",
       "parent 2370a3c4b8ad6626d1c8519105334c82960b09a4\n",
       "author Vaibhav Sagar <vaibhavsagar@gmail.com> 1461130348 +1000\n",
       "committer Vaibhav Sagar <vaibhavsagar@gmail.com> 1461130348 +1000\n",
       "\n",
       "Clarify refs."
      ]
     },
     "metadata": {},
     "output_type": "display_data"
    }
   ],
   "source": [
    "storedObject <$> resolveRef \".git\" \"refs/heads/master\""
   ]
  },
  {
   "cell_type": "code",
   "execution_count": 3,
   "metadata": {
    "collapsed": false
   },
   "outputs": [
    {
     "data": {
      "text/plain": [
       "040000\ttree\te16153832e7dd2d1a970631383a659f2de5889a1\t.ci\n",
       "100644\tblob\tf852d338e44a811b19727e35fcd26320a260320d\t.gitignore\n",
       "100644\tblob\t046aa747c15c814559c64a4e383b30cd7205a6a0\t.travis.yml\n",
       "100644\tblob\tb75f4c9dbe3b61cacba052f23461834468832e41\tLICENSE\n",
       "100644\tblob\t9a994af677b0dfd41b4e3b76b3e7e604003d64e1\tSetup.hs\n",
       "100644\tblob\t5b1a4f866d1fe2d5308b2a5c6f1e8616b3d5903c\tdemo.ipynb\n",
       "100644\tblob\t71b57a5b54096fa265131d27db423f4f4e46804b\tduffer.cabal\n",
       "040000\ttree\tf6d5d1e022927afebd7ff9400f558ac2f072e446\tpresentation\n",
       "040000\ttree\tf25a443baab09c5f46f09c0e4d1fa2300c102e8d\tsrc\n",
       "100644\tblob\t93c44fbc7047e3dd7812ca53c6750de88226e5a5\tstack.yaml\n",
       "040000\ttree\t8dc208cef9fa193f1252abb0fe418d5fc09169e4\ttest"
      ]
     },
     "metadata": {},
     "output_type": "display_data"
    }
   ],
   "source": [
    "currentCommit = resolveRef \".git\" \"refs/heads/master\"\n",
    "rootTree = storedObject <$> (readObject \".git\" =<< treeRef . storedObject <$> currentCommit)\n",
    "rootTree"
   ]
  },
  {
   "cell_type": "code",
   "execution_count": 4,
   "metadata": {
    "collapsed": false
   },
   "outputs": [
    {
     "data": {
      "text/plain": [
       "  gh-pages\n",
       "* master\n",
       "  new-branch"
      ]
     },
     "metadata": {},
     "output_type": "display_data"
    }
   ],
   "source": [
    ":!git branch"
   ]
  },
  {
   "cell_type": "code",
   "execution_count": 5,
   "metadata": {
    "collapsed": false
   },
   "outputs": [
    {
     "data": {
      "text/plain": [
       "d76238fed6c656183a4d4dcf287217a061043869"
      ]
     },
     "metadata": {},
     "output_type": "display_data"
    }
   ],
   "source": [
    ":!cat .git/refs/heads/master"
   ]
  },
  {
   "cell_type": "code",
   "execution_count": 6,
   "metadata": {
    "collapsed": false
   },
   "outputs": [
    {
     "data": {
      "text/plain": [
       "1559094846135448f2f4e28278dfcff678c7b64b"
      ]
     },
     "metadata": {},
     "output_type": "display_data"
    }
   ],
   "source": [
    ":!cat .git/refs/heads/gh-pages"
   ]
  },
  {
   "cell_type": "code",
   "execution_count": 7,
   "metadata": {
    "collapsed": false
   },
   "outputs": [],
   "source": [
    "parent object index = object >>= \\obj -> (Duffer.^^) obj index\n",
    "ancestor object index = object >>= \\obj -> obj ~~ index"
   ]
  },
  {
   "cell_type": "code",
   "execution_count": 8,
   "metadata": {
    "collapsed": false
   },
   "outputs": [
    {
     "data": {
      "text/plain": [
       ".git/objects/15/9ca04c47350b581a8866af05f149bc9d92b7ac\n",
       "tree 4b825dc642cb6eb9a060e54bf8d69288fbee4904\n",
       "author Vaibhav Sagar <vaibhavsagar@gmail.com> 1460682233 +1000\n",
       "committer Vaibhav Sagar <vaibhavsagar@gmail.com> 1460682233 +1000\n",
       "\n",
       "Initial gh-pages commit."
      ]
     },
     "metadata": {},
     "output_type": "display_data"
    }
   ],
   "source": [
    "ghPages = resolveRef \".git\" \"refs/heads/gh-pages\"\n",
    "ghPages `parent` 1 `ancestor` 1"
   ]
  },
  {
   "cell_type": "code",
   "execution_count": 9,
   "metadata": {
    "collapsed": false
   },
   "outputs": [
    {
     "data": {
      "text/plain": [
       "\"a28aded05daa52ff5d0c77cd6186b1ce0faf7c8c\""
      ]
     },
     "metadata": {},
     "output_type": "display_data"
    }
   ],
   "source": [
    "tree = storedObject <$> readObject \".git\" \"a28aded05daa52ff5d0c77cd6186b1ce0faf7c8c\"\n",
    "hash <$> tree"
   ]
  },
  {
   "cell_type": "code",
   "execution_count": 10,
   "metadata": {
    "collapsed": false
   },
   "outputs": [
    {
     "data": {
      "text/plain": [
       "040000\ttree\t2404ef1ea70e2d72408ec73143c6ceffba3b6788\thighlight\n",
       "040000\ttree\tbae066b07bc25cf36b316b8ad151ba80c2a60086\tmarkdown\n",
       "040000\ttree\t4ff04f4c72707690b23e77e8a4a880f3f76ecf5e\tmath\n",
       "040000\ttree\tde5fef730165566b3cd78273e96a57d1449a4105\tmultiplex\n",
       "040000\ttree\td3681931d6b8765e38e878ee8a49044e519b46df\tnotes-server\n",
       "040000\ttree\t7b5bc0823020949238c670b6fff876787586a590\tnotes\n",
       "040000\ttree\t61774e24d60863522b3d96dd77629602a22480b4\tprint-pdf\n",
       "040000\ttree\t36c491c9fafd21a40d50b8ae3a5e86593082bfc2\tsearch\n",
       "040000\ttree\tbca0cd38fe38c45a4933c3406ffc070b4c35565b\tzoom-js"
      ]
     },
     "metadata": {},
     "output_type": "display_data"
    }
   ],
   "source": [
    "tree"
   ]
  },
  {
   "cell_type": "code",
   "execution_count": 11,
   "metadata": {
    "collapsed": false,
    "scrolled": true
   },
   "outputs": [
    {
     "data": {
      "text/plain": [
       ".git/objects/b7/5f4c9dbe3b61cacba052f23461834468832e41\n",
       "\"Copyright Vaibhav Sagar (c) 2015\\n\\nAll rights reserved.\\n\\nRedistribution and use in source and binary forms, with or without\\nmodification, are permitted provided that the following conditions are met:\\n\\n    * Redistributions of source code must retain the above copyright\\n      notice, this list of conditions and the following disclaimer.\\n\\n    * Redistributions in binary form must reproduce the above\\n      copyright notice, this list of conditions and the following\\n      disclaimer in the documentation and/or other materials provided\\n      with the distribution.\\n\\n    * Neither the name of Vaibhav Sagar nor the names of other\\n      contributors may be used to endorse or promote products derived\\n      from this software without specific prior written permission.\\n\\nTHIS SOFTWARE IS PROVIDED BY THE COPYRIGHT HOLDERS AND CONTRIBUTORS\\n\\\"AS IS\\\" AND ANY EXPRESS OR IMPLIED WARRANTIES, INCLUDING, BUT NOT\\nLIMITED TO, THE IMPLIED WARRANTIES OF MERCHANTABILITY AND FITNESS FOR\\nA PARTICULAR PURPOSE ARE DISCLAIMED. IN NO EVENT SHALL THE COPYRIGHT\\nOWNER OR CONTRIBUTORS BE LIABLE FOR ANY DIRECT, INDIRECT, INCIDENTAL,\\nSPECIAL, EXEMPLARY, OR CONSEQUENTIAL DAMAGES (INCLUDING, BUT NOT\\nLIMITED TO, PROCUREMENT OF SUBSTITUTE GOODS OR SERVICES; LOSS OF USE,\\nDATA, OR PROFITS; OR BUSINESS INTERRUPTION) HOWEVER CAUSED AND ON ANY\\nTHEORY OF LIABILITY, WHETHER IN CONTRACT, STRICT LIABILITY, OR TORT\\n(INCLUDING NEGLIGENCE OR OTHERWISE) ARISING IN ANY WAY OUT OF THE USE\\nOF THIS SOFTWARE, EVEN IF ADVISED OF THE POSSIBILITY OF SUCH DAMAGE.\""
      ]
     },
     "metadata": {},
     "output_type": "display_data"
    }
   ],
   "source": [
    "readObject \".git\" \"b75f4c9dbe3b61cacba052f23461834468832e41\""
   ]
  },
  {
   "cell_type": "code",
   "execution_count": 12,
   "metadata": {
    "collapsed": false
   },
   "outputs": [
    {
     "data": {
      "text/plain": [
       ".git/objects/d4/b1e0343313ab60688cf0ddfa8ae5d8fe60ec23\n",
       "object 25354a5cfebca0261cdaa87ebef3a6b9dcb9c13a\n",
       "type commit\n",
       "tag test\n",
       "tagger Vaibhav Sagar <vaibhavsagar@gmail.com> 1459935215 +1000\n",
       "\n",
       "Test tag."
      ]
     },
     "metadata": {},
     "output_type": "display_data"
    }
   ],
   "source": [
    "readObject \".git\" \"d4b1e0343313ab60688cf0ddfa8ae5d8fe60ec23\""
   ]
  },
  {
   "cell_type": "code",
   "execution_count": 13,
   "metadata": {
    "collapsed": false
   },
   "outputs": [
    {
     "data": {
      "text/plain": [
       "\"95d09f2b10159347eece71399a7e2e907ea3df4f\""
      ]
     },
     "metadata": {},
     "output_type": "display_data"
    }
   ],
   "source": [
    "import Data.ByteString.UTF8 (fromString, toString)\n",
    "blob = Blob (fromString \"hello world\")\n",
    "writeObject $ StoredObject \".git\" blob"
   ]
  },
  {
   "cell_type": "code",
   "execution_count": 14,
   "metadata": {
    "collapsed": false
   },
   "outputs": [
    {
     "data": {
      "text/plain": [
       "\"d76238fed6c656183a4d4dcf287217a061043869\""
      ]
     },
     "metadata": {},
     "output_type": "display_data"
    }
   ],
   "source": [
    "currentCommit = resolveRef \".git\" \"refs/heads/master\"\n",
    "currentCommit >>= \\commit -> updateRef \"refs/heads/new-branch\" $ StoredObject \".git\" $ storedObject commit"
   ]
  },
  {
   "cell_type": "code",
   "execution_count": 15,
   "metadata": {
    "collapsed": true
   },
   "outputs": [],
   "source": [
    "rootTree = storedObject <$> (readObject \".git\" =<< treeRef . storedObject <$> currentCommit)"
   ]
  },
  {
   "cell_type": "code",
   "execution_count": 16,
   "metadata": {
    "collapsed": false
   },
   "outputs": [],
   "source": [
    "import Numeric (readOct)\n",
    "mode = fst $ head $ readOct \"100644\"\n",
    "newFile = TreeEntry mode \"new-file\" \"95d09f2b10159347eece71399a7e2e907ea3df4f\""
   ]
  },
  {
   "cell_type": "code",
   "execution_count": 26,
   "metadata": {
    "collapsed": false
   },
   "outputs": [
    {
     "data": {
      "text/plain": [
       "\"f6fd18be4aea510f902470f0685fff6e4edd43ef\""
      ]
     },
     "metadata": {},
     "output_type": "display_data"
    }
   ],
   "source": [
    "do\n",
    "    treeEntries <- entries <$> rootTree\n",
    "    let newEntries = newFile:treeEntries\n",
    "    newTree <- writeObject $ StoredObject \".git\" (Tree newEntries)\n",
    "    let me = \"Vaibhav Sagar <vaibhavsagar@gmail.com> 1461156164 +1000\" \n",
    "    let newCommit = Commit newTree [\"d76238fed6c656183a4d4dcf287217a061043869\"] me me \"New commit.\"\n",
    "    newHead <- writeObject $ StoredObject \".git\" newCommit\n",
    "    updateRef \"refs/heads/new-branch\" $ StoredObject \".git\" newCommit"
   ]
  }
 ],
 "metadata": {
  "kernelspec": {
   "display_name": "Haskell",
   "language": "haskell",
   "name": "haskell"
  },
  "language_info": {
   "codemirror_mode": "ihaskell",
   "file_extension": ".hs",
   "name": "haskell",
   "version": "7.10.3"
  }
 },
 "nbformat": 4,
 "nbformat_minor": 0
}
