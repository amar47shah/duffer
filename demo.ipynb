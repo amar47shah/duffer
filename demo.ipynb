{
 "cells": [
  {
   "cell_type": "code",
   "execution_count": 30,
   "metadata": {
    "collapsed": false
   },
   "outputs": [],
   "source": [
    ":set -XOverloadedStrings\n",
    "\n",
    "import Control.Monad.Trans.Reader (runReaderT)\n",
    "import Control.Monad.IO.Class (liftIO)\n",
    "import Data.Maybe (fromJust)\n",
    "import qualified Data.Set as S\n",
    "\n",
    "import Duffer\n",
    "import Duffer.Loose.Objects\n",
    "\n",
    "runWith = flip runReaderT"
   ]
  },
  {
   "cell_type": "code",
   "execution_count": 2,
   "metadata": {
    "collapsed": false
   },
   "outputs": [
    {
     "data": {
      "text/plain": [
       "Just tree a7d37d3724c18c82e62b30f2aa05d97e8f3baa9f\n",
       "parent 75643dcdf8dbdccb4ed7bc895313ec7047425614\n",
       "author Vaibhav Sagar <vaibhavsagar@gmail.com> 1474031932 -0400\n",
       "committer Vaibhav Sagar <vaibhavsagar@gmail.com> 1474031932 -0400\n",
       "\n",
       "IHaskell > GHC 8."
      ]
     },
     "metadata": {},
     "output_type": "display_data"
    }
   ],
   "source": [
    "runWith \".git\" (resolveRef \"refs/heads/master\")"
   ]
  },
  {
   "cell_type": "code",
   "execution_count": 34,
   "metadata": {
    "collapsed": false
   },
   "outputs": [
    {
     "data": {
      "text/plain": [
       "040000\ttree\te824f9b083b145f0923edb8d586a34e05e800125\t.ci\n",
       "100644\tblob\t024ac699940a0c2da0a20f899b324df16f8fdeca\t.gitignore\n",
       "100644\tblob\tfbc4e9eb55e7511e5dc1dc34a511d03f40c7cbd2\t.travis.yml\n",
       "100644\tblob\td5c01fc4f0a44b01144a7adb8d7eb9698870dbf3\tIndex.ipynb\n",
       "100644\tblob\t40047c95db5ba581586d5ced7b041b64a9635512\tLICENSE\n",
       "100644\tblob\t6f80357291125328d2d8c7ee0003e002e93a7400\tREADME.md\n",
       "100644\tblob\t9a994af677b0dfd41b4e3b76b3e7e604003d64e1\tSetup.hs\n",
       "100644\tblob\t55001d3a9852ba3d020065112648ae380a9e9833\tdemo.ipynb\n",
       "100644\tblob\tc227ff4dfbff1db536cad6764419cadcb8b16e5d\tduffer.cabal\n",
       "040000\ttree\te44cde0aee1253fab7ca2f7285e6927f4fa83b03\tpresentation\n",
       "040000\ttree\t07587241be048f066b9823e6886b7f8f975476bd\tsrc\n",
       "100644\tblob\t14f3a8d8a494ecdc64621dd9f3738c91b74eb251\tstack.yaml\n",
       "040000\ttree\tcb611148ac47d79ace84e4604a1aef387bd40514\ttest"
      ]
     },
     "metadata": {},
     "output_type": "display_data"
    }
   ],
   "source": [
    "runWith \".git\" $ do\n",
    "    master    <- fromJust <$> resolveRef \"refs/heads/master\"\n",
    "    let tree  =  treeRef master\n",
    "    fromJust <$> readObject tree"
   ]
  },
  {
   "cell_type": "code",
   "execution_count": 4,
   "metadata": {
    "collapsed": false
   },
   "outputs": [
    {
     "data": {
      "text/plain": [
       "  gh-pages\n",
       "* master\n",
       "  porcelain\n",
       "  porterjamesj-master"
      ]
     },
     "metadata": {},
     "output_type": "display_data"
    }
   ],
   "source": [
    ":!git branch"
   ]
  },
  {
   "cell_type": "code",
   "execution_count": 5,
   "metadata": {
    "collapsed": false
   },
   "outputs": [
    {
     "data": {
      "text/plain": [
       "b4147c3484bec3988cadbfd23a37709e799228cd"
      ]
     },
     "metadata": {},
     "output_type": "display_data"
    }
   ],
   "source": [
    ":!cat .git/refs/heads/master"
   ]
  },
  {
   "cell_type": "code",
   "execution_count": 25,
   "metadata": {
    "collapsed": false
   },
   "outputs": [
    {
     "data": {
      "text/plain": [
       "d72ae27a9ae58d49235ff9761cfae816b004d9b1"
      ]
     },
     "metadata": {},
     "output_type": "display_data"
    }
   ],
   "source": [
    ":!cat .git/refs/heads/porcelain"
   ]
  },
  {
   "cell_type": "code",
   "execution_count": 7,
   "metadata": {
    "collapsed": false
   },
   "outputs": [],
   "source": [
    " {- runWith \".git\" $ do\n",
    "    master <- resolveRef \"refs/heads/master\"\n",
    "    merge <- master ~~ 29\n",
    "    liftIO $ print merge\n",
    "    merge Duffer.^^ 2 -}"
   ]
  },
  {
   "cell_type": "code",
   "execution_count": 27,
   "metadata": {
    "collapsed": false
   },
   "outputs": [
    {
     "data": {
      "text/plain": [
       "tree 8df070315038eee5133360de5e3a8f51ac19ba57\n",
       "parent ff78ec4e74e4982bac44220e331338c463f32364\n",
       "author Vaibhav Sagar <vaibhavsagar@gmail.com> 1473124160 -0400\n",
       "committer Vaibhav Sagar <vaibhavsagar@gmail.com> 1473124160 -0400\n",
       "\n",
       "Improve test variable names."
      ]
     },
     "metadata": {},
     "output_type": "display_data"
    }
   ],
   "source": [
    "runWith \".git\" $ do\n",
    "    Just porcelain <- resolveRef \"refs/heads/porcelain\"\n",
    "    Just parent    <- porcelain Duffer.^^ 1\n",
    "    Just result    <- parent ~~ 1\n",
    "    return result"
   ]
  },
  {
   "cell_type": "code",
   "execution_count": 35,
   "metadata": {
    "collapsed": false
   },
   "outputs": [
    {
     "data": {
      "text/plain": [
       "\"a28aded05daa52ff5d0c77cd6186b1ce0faf7c8c\""
      ]
     },
     "metadata": {},
     "output_type": "display_data"
    }
   ],
   "source": [
    "tree = runWith \".git\" $ fromJust <$> readObject \"a28aded05daa52ff5d0c77cd6186b1ce0faf7c8c\"\n",
    "hash <$> tree"
   ]
  },
  {
   "cell_type": "code",
   "execution_count": 47,
   "metadata": {
    "collapsed": false
   },
   "outputs": [
    {
     "data": {
      "text/plain": [
       "040000\ttree\t2404ef1ea70e2d72408ec73143c6ceffba3b6788\thighlight\n",
       "040000\ttree\tbae066b07bc25cf36b316b8ad151ba80c2a60086\tmarkdown\n",
       "040000\ttree\t4ff04f4c72707690b23e77e8a4a880f3f76ecf5e\tmath\n",
       "040000\ttree\tde5fef730165566b3cd78273e96a57d1449a4105\tmultiplex\n",
       "040000\ttree\td3681931d6b8765e38e878ee8a49044e519b46df\tnotes-server\n",
       "040000\ttree\t7b5bc0823020949238c670b6fff876787586a590\tnotes\n",
       "040000\ttree\t61774e24d60863522b3d96dd77629602a22480b4\tprint-pdf\n",
       "040000\ttree\t36c491c9fafd21a40d50b8ae3a5e86593082bfc2\tsearch\n",
       "040000\ttree\tbca0cd38fe38c45a4933c3406ffc070b4c35565b\tzoom-js"
      ]
     },
     "metadata": {},
     "output_type": "display_data"
    }
   ],
   "source": [
    "tree"
   ]
  },
  {
   "cell_type": "code",
   "execution_count": 11,
   "metadata": {
    "collapsed": false,
    "scrolled": true
   },
   "outputs": [
    {
     "data": {
      "text/plain": [
       "Just Copyright Vaibhav Sagar (c) 2015\n",
       "\n",
       "All rights reserved.\n",
       "\n",
       "Redistribution and use in source and binary forms, with or without\n",
       "modification, are permitted provided that the following conditions are met:\n",
       "\n",
       "    * Redistributions of source code must retain the above copyright\n",
       "      notice, this list of conditions and the following disclaimer.\n",
       "\n",
       "    * Redistributions in binary form must reproduce the above\n",
       "      copyright notice, this list of conditions and the following\n",
       "      disclaimer in the documentation and/or other materials provided\n",
       "      with the distribution.\n",
       "\n",
       "    * Neither the name of Vaibhav Sagar nor the names of other\n",
       "      contributors may be used to endorse or promote products derived\n",
       "      from this software without specific prior written permission.\n",
       "\n",
       "THIS SOFTWARE IS PROVIDED BY THE COPYRIGHT HOLDERS AND CONTRIBUTORS\n",
       "\"AS IS\" AND ANY EXPRESS OR IMPLIED WARRANTIES, INCLUDING, BUT NOT\n",
       "LIMITED TO, THE IMPLIED WARRANTIES OF MERCHANTABILITY AND FITNESS FOR\n",
       "A PARTICULAR PURPOSE ARE DISCLAIMED. IN NO EVENT SHALL THE COPYRIGHT\n",
       "OWNER OR CONTRIBUTORS BE LIABLE FOR ANY DIRECT, INDIRECT, INCIDENTAL,\n",
       "SPECIAL, EXEMPLARY, OR CONSEQUENTIAL DAMAGES (INCLUDING, BUT NOT\n",
       "LIMITED TO, PROCUREMENT OF SUBSTITUTE GOODS OR SERVICES; LOSS OF USE,\n",
       "DATA, OR PROFITS; OR BUSINESS INTERRUPTION) HOWEVER CAUSED AND ON ANY\n",
       "THEORY OF LIABILITY, WHETHER IN CONTRACT, STRICT LIABILITY, OR TORT\n",
       "(INCLUDING NEGLIGENCE OR OTHERWISE) ARISING IN ANY WAY OUT OF THE USE\n",
       "OF THIS SOFTWARE, EVEN IF ADVISED OF THE POSSIBILITY OF SUCH DAMAGE."
      ]
     },
     "metadata": {},
     "output_type": "display_data"
    }
   ],
   "source": [
    "runWith \".git\" $ readObject \"b75f4c9dbe3b61cacba052f23461834468832e41\""
   ]
  },
  {
   "cell_type": "code",
   "execution_count": 37,
   "metadata": {
    "collapsed": false
   },
   "outputs": [
    {
     "data": {
      "text/plain": [
       "object 25354a5cfebca0261cdaa87ebef3a6b9dcb9c13a\n",
       "type commit\n",
       "tag test\n",
       "tagger Vaibhav Sagar <vaibhavsagar@gmail.com> 1459935215 +1000\n",
       "\n",
       "Test tag."
      ]
     },
     "metadata": {},
     "output_type": "display_data"
    }
   ],
   "source": [
    "runWith \".git\" $ fromJust <$> readObject \"d4b1e0343313ab60688cf0ddfa8ae5d8fe60ec23\""
   ]
  },
  {
   "cell_type": "code",
   "execution_count": 38,
   "metadata": {
    "collapsed": false
   },
   "outputs": [
    {
     "data": {
      "text/plain": [
       "\"95d09f2b10159347eece71399a7e2e907ea3df4f\""
      ]
     },
     "metadata": {},
     "output_type": "display_data"
    }
   ],
   "source": [
    "import Data.ByteString.UTF8 (fromString, toString)\n",
    "blob = Blob (fromString \"hello world\")\n",
    "runWith \".git\" $ writeObject blob"
   ]
  },
  {
   "cell_type": "code",
   "execution_count": 39,
   "metadata": {
    "collapsed": false
   },
   "outputs": [
    {
     "data": {
      "text/plain": [
       "\"b4147c3484bec3988cadbfd23a37709e799228cd\""
      ]
     },
     "metadata": {},
     "output_type": "display_data"
    }
   ],
   "source": [
    "currentCommit = fromJust <$> resolveRef \"refs/heads/master\"\n",
    "runWith \".git\" $ currentCommit >>= \\commit -> updateRef \"refs/heads/new-branch\" commit"
   ]
  },
  {
   "cell_type": "code",
   "execution_count": 41,
   "metadata": {
    "collapsed": false
   },
   "outputs": [
    {
     "data": {
      "text/plain": [
       "040000\ttree\te824f9b083b145f0923edb8d586a34e05e800125\t.ci\n",
       "100644\tblob\t024ac699940a0c2da0a20f899b324df16f8fdeca\t.gitignore\n",
       "100644\tblob\tfbc4e9eb55e7511e5dc1dc34a511d03f40c7cbd2\t.travis.yml\n",
       "100644\tblob\td5c01fc4f0a44b01144a7adb8d7eb9698870dbf3\tIndex.ipynb\n",
       "100644\tblob\t40047c95db5ba581586d5ced7b041b64a9635512\tLICENSE\n",
       "100644\tblob\t6f80357291125328d2d8c7ee0003e002e93a7400\tREADME.md\n",
       "100644\tblob\t9a994af677b0dfd41b4e3b76b3e7e604003d64e1\tSetup.hs\n",
       "100644\tblob\t55001d3a9852ba3d020065112648ae380a9e9833\tdemo.ipynb\n",
       "100644\tblob\tc227ff4dfbff1db536cad6764419cadcb8b16e5d\tduffer.cabal\n",
       "040000\ttree\te44cde0aee1253fab7ca2f7285e6927f4fa83b03\tpresentation\n",
       "040000\ttree\t07587241be048f066b9823e6886b7f8f975476bd\tsrc\n",
       "100644\tblob\t14f3a8d8a494ecdc64621dd9f3738c91b74eb251\tstack.yaml\n",
       "040000\ttree\tcb611148ac47d79ace84e4604a1aef387bd40514\ttest"
      ]
     },
     "metadata": {},
     "output_type": "display_data"
    }
   ],
   "source": [
    "rootTree = runWith \".git\" $ do\n",
    "    ref <- treeRef <$> currentCommit\n",
    "    fromJust <$> readObject ref\n",
    "rootTree"
   ]
  },
  {
   "cell_type": "code",
   "execution_count": 42,
   "metadata": {
    "collapsed": false
   },
   "outputs": [],
   "source": [
    "newFile = TreeEntry 0o100644 \"new-file\" \"95d09f2b10159347eece71399a7e2e907ea3df4f\""
   ]
  },
  {
   "cell_type": "code",
   "execution_count": 43,
   "metadata": {
    "collapsed": false
   },
   "outputs": [
    {
     "data": {
      "text/plain": [
       "\"1776668d245939cd685380567001c788dc996ff3\""
      ]
     },
     "metadata": {},
     "output_type": "display_data"
    }
   ],
   "source": [
    "runWith \".git\" $ do\n",
    "    treeEntries <- liftIO $ entries <$> rootTree\n",
    "    let newEntries = S.insert newFile treeEntries\n",
    "    newTree <- writeObject (Tree newEntries)\n",
    "    let me = PersonTime \"Vaibhav Sagar\" \"vaibhavsagar@gmail.com\" \"1461156164\" \"+1000\" \n",
    "    let newCommit = Commit newTree [\"d76238fed6c656183a4d4dcf287217a061043869\"] me me \"New commit.\"\n",
    "    newHead <- writeObject newCommit\n",
    "    updateRef \"refs/heads/new-branch\" newCommit"
   ]
  }
 ],
 "metadata": {
  "kernelspec": {
   "display_name": "Haskell",
   "language": "haskell",
   "name": "haskell"
  },
  "language_info": {
   "codemirror_mode": "ihaskell",
   "file_extension": ".hs",
   "name": "haskell",
   "version": "7.10.3"
  }
 },
 "nbformat": 4,
 "nbformat_minor": 0
}
