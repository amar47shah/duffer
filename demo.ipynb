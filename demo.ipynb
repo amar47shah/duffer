{
 "cells": [
  {
   "cell_type": "code",
   "execution_count": 1,
   "metadata": {
    "collapsed": true
   },
   "outputs": [],
   "source": [
    "import Duffer"
   ]
  },
  {
   "cell_type": "code",
   "execution_count": 2,
   "metadata": {
    "collapsed": false
   },
   "outputs": [
    {
     "data": {
      "text/plain": [
       "tree c053d221d9b5fba9ba32450e1b5335e260146316\n",
       "parent 40ed17c86cbd43f91b03f31f51f4012fe16ab4c2\n",
       "author Vaibhav Sagar <vaibhavsagar@gmail.com> 1461041097 +1000\n",
       "committer Vaibhav Sagar <vaibhavsagar@gmail.com> 1461041097 +1000\n",
       "\n",
       "Use newer resolver."
      ]
     },
     "metadata": {},
     "output_type": "display_data"
    }
   ],
   "source": [
    "storedObject <$> resolveRef \".git\" \"refs/heads/master\""
   ]
  },
  {
   "cell_type": "code",
   "execution_count": 3,
   "metadata": {
    "collapsed": false
   },
   "outputs": [
    {
     "data": {
      "text/plain": [
       "040000\ttree\t504b78c1506acdfae03b3602709abbc96aa425d3\t.ci\n",
       "100644\tblob\t8ee1bf9489a3223e94d55bf46fcfed98bdbf38c2\t.gitignore\n",
       "100644\tblob\t046aa747c15c814559c64a4e383b30cd7205a6a0\t.travis.yml\n",
       "100644\tblob\tb75f4c9dbe3b61cacba052f23461834468832e41\tLICENSE\n",
       "100644\tblob\t9a994af677b0dfd41b4e3b76b3e7e604003d64e1\tSetup.hs\n",
       "100644\tblob\tf0dd3feb6382e650aca1c0f71e532feea0d9a3c9\tduffer.cabal\n",
       "040000\ttree\t23e5cc9e9d509c44dc617afd29c0f8eedb0ff2cf\tpresentation\n",
       "040000\ttree\t3c712bc0242fbecc8a871ecd8b805267133b2058\tsrc\n",
       "100644\tblob\t93c44fbc7047e3dd7812ca53c6750de88226e5a5\tstack.yaml\n",
       "040000\ttree\t85e431ee5b1e1a07c6507bdf10e16e150d028d4a\ttest"
      ]
     },
     "metadata": {},
     "output_type": "display_data"
    }
   ],
   "source": [
    "currentCommit = resolveRef \".git\" \"refs/heads/master\"\n",
    "rootTree = storedObject <$> (readObject \".git\" =<< treeRef . storedObject <$> currentCommit)\n",
    "rootTree"
   ]
  },
  {
   "cell_type": "code",
   "execution_count": 4,
   "metadata": {
    "collapsed": false
   },
   "outputs": [
    {
     "data": {
      "text/plain": [
       "  gh-pages\n",
       "* master"
      ]
     },
     "metadata": {},
     "output_type": "display_data"
    }
   ],
   "source": [
    ":!git branch"
   ]
  },
  {
   "cell_type": "code",
   "execution_count": 5,
   "metadata": {
    "collapsed": false
   },
   "outputs": [
    {
     "data": {
      "text/plain": [
       "d1482cf05cfbfbed3ff06e03fa71501301f95ccd"
      ]
     },
     "metadata": {},
     "output_type": "display_data"
    }
   ],
   "source": [
    ":!cat .git/refs/heads/master"
   ]
  },
  {
   "cell_type": "code",
   "execution_count": 6,
   "metadata": {
    "collapsed": false
   },
   "outputs": [
    {
     "data": {
      "text/plain": [
       "1559094846135448f2f4e28278dfcff678c7b64b"
      ]
     },
     "metadata": {},
     "output_type": "display_data"
    }
   ],
   "source": [
    ":!cat .git/refs/heads/gh-pages"
   ]
  },
  {
   "cell_type": "code",
   "execution_count": 7,
   "metadata": {
    "collapsed": false
   },
   "outputs": [],
   "source": [
    "parent object index = object >>= \\obj -> (Duffer.^^) obj index\n",
    "ancestor object index = object >>= \\obj -> obj ~~ index"
   ]
  },
  {
   "cell_type": "code",
   "execution_count": 8,
   "metadata": {
    "collapsed": false
   },
   "outputs": [
    {
     "data": {
      "text/plain": [
       ".git/objects/15/9ca04c47350b581a8866af05f149bc9d92b7ac\n",
       "tree 4b825dc642cb6eb9a060e54bf8d69288fbee4904\n",
       "author Vaibhav Sagar <vaibhavsagar@gmail.com> 1460682233 +1000\n",
       "committer Vaibhav Sagar <vaibhavsagar@gmail.com> 1460682233 +1000\n",
       "\n",
       "Initial gh-pages commit."
      ]
     },
     "metadata": {},
     "output_type": "display_data"
    }
   ],
   "source": [
    "ghPages = resolveRef \".git\" \"refs/heads/gh-pages\"\n",
    "ghPages `parent` 1 `ancestor` 1"
   ]
  },
  {
   "cell_type": "code",
   "execution_count": 9,
   "metadata": {
    "collapsed": false
   },
   "outputs": [
    {
     "data": {
      "text/plain": [
       "\"a28aded05daa52ff5d0c77cd6186b1ce0faf7c8c\""
      ]
     },
     "metadata": {},
     "output_type": "display_data"
    }
   ],
   "source": [
    "tree = storedObject <$> readObject \".git\" \"a28aded05daa52ff5d0c77cd6186b1ce0faf7c8c\"\n",
    "hash <$> tree"
   ]
  },
  {
   "cell_type": "code",
   "execution_count": 10,
   "metadata": {
    "collapsed": false
   },
   "outputs": [
    {
     "data": {
      "text/plain": [
       "040000\ttree\t2404ef1ea70e2d72408ec73143c6ceffba3b6788\thighlight\n",
       "040000\ttree\tbae066b07bc25cf36b316b8ad151ba80c2a60086\tmarkdown\n",
       "040000\ttree\t4ff04f4c72707690b23e77e8a4a880f3f76ecf5e\tmath\n",
       "040000\ttree\tde5fef730165566b3cd78273e96a57d1449a4105\tmultiplex\n",
       "040000\ttree\td3681931d6b8765e38e878ee8a49044e519b46df\tnotes-server\n",
       "040000\ttree\t7b5bc0823020949238c670b6fff876787586a590\tnotes\n",
       "040000\ttree\t61774e24d60863522b3d96dd77629602a22480b4\tprint-pdf\n",
       "040000\ttree\t36c491c9fafd21a40d50b8ae3a5e86593082bfc2\tsearch\n",
       "040000\ttree\tbca0cd38fe38c45a4933c3406ffc070b4c35565b\tzoom-js"
      ]
     },
     "metadata": {},
     "output_type": "display_data"
    }
   ],
   "source": [
    "tree"
   ]
  }
 ],
 "metadata": {
  "kernelspec": {
   "display_name": "Haskell",
   "language": "haskell",
   "name": "haskell"
  },
  "language_info": {
   "codemirror_mode": "ihaskell",
   "file_extension": ".hs",
   "name": "haskell",
   "version": "7.10.3"
  }
 },
 "nbformat": 4,
 "nbformat_minor": 0
}
